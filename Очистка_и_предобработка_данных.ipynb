{
  "cells": [
    {
      "cell_type": "markdown",
      "metadata": {
        "id": "view-in-github",
        "colab_type": "text"
      },
      "source": [
        "<a href=\"https://colab.research.google.com/github/semthedev/data-analytics-projects/blob/main/%D0%9E%D1%87%D0%B8%D1%81%D1%82%D0%BA%D0%B0_%D0%B8_%D0%BF%D1%80%D0%B5%D0%B4%D0%BE%D0%B1%D1%80%D0%B0%D0%B1%D0%BE%D1%82%D0%BA%D0%B0_%D0%B4%D0%B0%D0%BD%D0%BD%D1%8B%D1%85.ipynb\" target=\"_parent\"><img src=\"https://colab.research.google.com/assets/colab-badge.svg\" alt=\"Open In Colab\"/></a>"
      ]
    },
    {
      "cell_type": "markdown",
      "source": [
        "# Google Play Store"
      ],
      "metadata": {
        "id": "GzjmKQTbF-JD"
      }
    },
    {
      "cell_type": "markdown",
      "source": [
        "На данных google play store предлагается проверить какие факторы влияют на рейтинг приложений\n",
        "\n",
        "Цель анализа - проверить следующие гипотизы:\n",
        "\n",
        "\n",
        "1.   Бесплатные приложения имеют более низкий средний рейтинг по сравнению с платными.\n",
        "2.   Приложения с большим количеством установок имеют более высокий средний рейтинг.\n",
        "3.   Приложения в определенных категориях имеют более высокий рейтинг, чем приложения в других категориях.\n",
        "4.   Приложения меньшего размера имеют больше установок, так как занимают меньше места на устройстве."
      ],
      "metadata": {
        "id": "0TeymymHEsIv"
      }
    },
    {
      "cell_type": "markdown",
      "source": [
        "# Обзор данных"
      ],
      "metadata": {
        "id": "CEqj3T2-EC5d"
      }
    },
    {
      "cell_type": "code",
      "execution_count": 71,
      "metadata": {
        "id": "pjIZJS24Z5XE"
      },
      "outputs": [],
      "source": [
        "import pandas as pd"
      ]
    },
    {
      "cell_type": "code",
      "execution_count": 72,
      "metadata": {
        "id": "aZP9vL5Ei3tS"
      },
      "outputs": [],
      "source": [
        "df = pd.read_csv('/content/drive/MyDrive/Аналитика данных /Проекты Аналитик данных/googleplaystore.csv')"
      ]
    },
    {
      "cell_type": "code",
      "execution_count": 73,
      "metadata": {
        "colab": {
          "base_uri": "https://localhost:8080/"
        },
        "id": "Ky1mZgecja43",
        "outputId": "688adf35-204c-47c4-884e-431c1206d965"
      },
      "outputs": [
        {
          "output_type": "stream",
          "name": "stdout",
          "text": [
            "                                                 App        Category  Rating  \\\n",
            "0     Photo Editor & Candy Camera & Grid & ScrapBook  ART_AND_DESIGN     4.1   \n",
            "1                                Coloring book moana  ART_AND_DESIGN     3.9   \n",
            "2  U Launcher Lite – FREE Live Cool Themes, Hide ...  ART_AND_DESIGN     4.7   \n",
            "3                              Sketch - Draw & Paint  ART_AND_DESIGN     4.5   \n",
            "4              Pixel Draw - Number Art Coloring Book  ART_AND_DESIGN     4.3   \n",
            "5                         Paper flowers instructions  ART_AND_DESIGN     4.4   \n",
            "6            Smoke Effect Photo Maker - Smoke Editor  ART_AND_DESIGN     3.8   \n",
            "7                                   Infinite Painter  ART_AND_DESIGN     4.1   \n",
            "8                               Garden Coloring Book  ART_AND_DESIGN     4.4   \n",
            "9                      Kids Paint Free - Drawing Fun  ART_AND_DESIGN     4.7   \n",
            "\n",
            "  Reviews  Size     Installs  Type Price Content Rating  \\\n",
            "0     159   19M      10,000+  Free     0       Everyone   \n",
            "1     967   14M     500,000+  Free     0       Everyone   \n",
            "2   87510  8.7M   5,000,000+  Free     0       Everyone   \n",
            "3  215644   25M  50,000,000+  Free     0           Teen   \n",
            "4     967  2.8M     100,000+  Free     0       Everyone   \n",
            "5     167  5.6M      50,000+  Free     0       Everyone   \n",
            "6     178   19M      50,000+  Free     0       Everyone   \n",
            "7   36815   29M   1,000,000+  Free     0       Everyone   \n",
            "8   13791   33M   1,000,000+  Free     0       Everyone   \n",
            "9     121  3.1M      10,000+  Free     0       Everyone   \n",
            "\n",
            "                      Genres        Last Updated         Current Ver  \\\n",
            "0               Art & Design     January 7, 2018               1.0.0   \n",
            "1  Art & Design;Pretend Play    January 15, 2018               2.0.0   \n",
            "2               Art & Design      August 1, 2018               1.2.4   \n",
            "3               Art & Design        June 8, 2018  Varies with device   \n",
            "4    Art & Design;Creativity       June 20, 2018                 1.1   \n",
            "5               Art & Design      March 26, 2017                 1.0   \n",
            "6               Art & Design      April 26, 2018                 1.1   \n",
            "7               Art & Design       June 14, 2018            6.1.61.1   \n",
            "8               Art & Design  September 20, 2017               2.9.2   \n",
            "9    Art & Design;Creativity        July 3, 2018                 2.8   \n",
            "\n",
            "    Android Ver  \n",
            "0  4.0.3 and up  \n",
            "1  4.0.3 and up  \n",
            "2  4.0.3 and up  \n",
            "3    4.2 and up  \n",
            "4    4.4 and up  \n",
            "5    2.3 and up  \n",
            "6  4.0.3 and up  \n",
            "7    4.2 and up  \n",
            "8    3.0 and up  \n",
            "9  4.0.3 and up  \n"
          ]
        }
      ],
      "source": [
        "# получение первых 10 строк таблицы df\n",
        "print(df.head(10))"
      ]
    },
    {
      "cell_type": "code",
      "source": [
        "# вывод на экран общей информации о таблице df\n",
        "df.info()"
      ],
      "metadata": {
        "colab": {
          "base_uri": "https://localhost:8080/"
        },
        "id": "cRCHksc3k5mS",
        "outputId": "c9ac9f50-fe68-4c67-dff2-fd864551c2de"
      },
      "execution_count": 74,
      "outputs": [
        {
          "output_type": "stream",
          "name": "stdout",
          "text": [
            "<class 'pandas.core.frame.DataFrame'>\n",
            "RangeIndex: 10841 entries, 0 to 10840\n",
            "Data columns (total 13 columns):\n",
            " #   Column          Non-Null Count  Dtype  \n",
            "---  ------          --------------  -----  \n",
            " 0   App             10841 non-null  object \n",
            " 1   Category        10841 non-null  object \n",
            " 2   Rating          9367 non-null   float64\n",
            " 3   Reviews         10841 non-null  object \n",
            " 4   Size            10841 non-null  object \n",
            " 5   Installs        10841 non-null  object \n",
            " 6   Type            10840 non-null  object \n",
            " 7   Price           10841 non-null  object \n",
            " 8   Content Rating  10840 non-null  object \n",
            " 9   Genres          10841 non-null  object \n",
            " 10  Last Updated    10841 non-null  object \n",
            " 11  Current Ver     10833 non-null  object \n",
            " 12  Android Ver     10838 non-null  object \n",
            "dtypes: float64(1), object(12)\n",
            "memory usage: 1.1+ MB\n"
          ]
        }
      ]
    },
    {
      "cell_type": "markdown",
      "source": [
        "Итак, в таблице 13 столбцов. Тип данных во всех столбцах — object.\n",
        "\n",
        "Согласно документации к данным:\n",
        "\n",
        "App — название приложения;\n",
        "\n",
        "Category — категория приложения;\n",
        "\n",
        "Rating — рейтинг приложения;\n",
        "\n",
        "Reviews — количество отзывов;\n",
        "\n",
        "Size — размер приложения;\n",
        "\n",
        "Installs — количество установок;\n",
        "\n",
        "Type — тип приложения (бесплатное или платное);\n",
        "\n",
        "Price - цена приложения;\n",
        "\n",
        "Content Rating - возрастной рейтинг;\n",
        "\n",
        "Genres - жанры приложения;\n",
        "\n",
        "Last Updated - дата последнего обновления;\n",
        "\n",
        "Current Ver - текущая версия приложения;\n",
        "\n",
        "Android Ver -минимальная версия Android.\n",
        "\n",
        "В названиях колонок видны три нарушения стиля:\n",
        "\n",
        "Строчные буквы сочетаются с прописными.\n",
        "Встречаются пробелы.\n",
        "Названия, состоящие из двух и более слов написаны не в змеином_регистре.\n",
        "\n",
        "Количество значений в столбцах различается. Значит, в данных есть пропущенные значения."
      ],
      "metadata": {
        "id": "79TRwcgQlXr1"
      }
    },
    {
      "cell_type": "markdown",
      "source": [
        "# Предобработка данных"
      ],
      "metadata": {
        "id": "qou_geIiobxf"
      }
    },
    {
      "cell_type": "markdown",
      "source": [
        "### Стили заголовок"
      ],
      "metadata": {
        "id": "fhX7uOGrDsXk"
      }
    },
    {
      "cell_type": "code",
      "source": [
        "# вывод на экран названий всех столбцов таблицы df\n",
        "df.columns"
      ],
      "metadata": {
        "colab": {
          "base_uri": "https://localhost:8080/"
        },
        "id": "-q9WhyGaohX0",
        "outputId": "0292f404-9a31-4245-a5e4-47e9c5942e92"
      },
      "execution_count": 75,
      "outputs": [
        {
          "output_type": "execute_result",
          "data": {
            "text/plain": [
              "Index(['App', 'Category', 'Rating', 'Reviews', 'Size', 'Installs', 'Type',\n",
              "       'Price', 'Content Rating', 'Genres', 'Last Updated', 'Current Ver',\n",
              "       'Android Ver'],\n",
              "      dtype='object')"
            ]
          },
          "metadata": {},
          "execution_count": 75
        }
      ]
    },
    {
      "cell_type": "code",
      "source": [
        "# переименование некоторых столбцов\n",
        "df = df.rename(columns={'App' : 'app', 'Category' : 'category', 'Rating' : 'rating', 'Reviews' : 'reviews', 'Size' : 'size', 'Installs' : 'installs', 'Type' : 'type', 'Price' : 'price', 'Content Rating' : 'content_rating', 'Genres' : 'genres', 'Last Updated' : 'last_updated', 'Current Ver' : 'current_ver', 'Android Ver' : 'android_ver'})"
      ],
      "metadata": {
        "id": "7ZzD37LDpIFH"
      },
      "execution_count": 76,
      "outputs": []
    },
    {
      "cell_type": "code",
      "source": [
        "# вывод на экран новых названий всех столбцов таблицы df\n",
        "df.columns"
      ],
      "metadata": {
        "colab": {
          "base_uri": "https://localhost:8080/"
        },
        "id": "nIIoz3aoqPKx",
        "outputId": "79205bff-11ef-411c-8452-0182feeda34d"
      },
      "execution_count": 77,
      "outputs": [
        {
          "output_type": "execute_result",
          "data": {
            "text/plain": [
              "Index(['app', 'category', 'rating', 'reviews', 'size', 'installs', 'type',\n",
              "       'price', 'content_rating', 'genres', 'last_updated', 'current_ver',\n",
              "       'android_ver'],\n",
              "      dtype='object')"
            ]
          },
          "metadata": {},
          "execution_count": 77
        }
      ]
    },
    {
      "cell_type": "markdown",
      "source": [
        "### Пустые строки на unknown"
      ],
      "metadata": {
        "id": "HKEMEFBgDl8N"
      }
    },
    {
      "cell_type": "code",
      "source": [
        "# сумма всех пропусков в таблице\n",
        "df.isna().sum() / df.shape[0] * 100"
      ],
      "metadata": {
        "id": "ntl02APuq8FS",
        "outputId": "056bb59e-f77f-446f-8be2-cd8d390d182d",
        "colab": {
          "base_uri": "https://localhost:8080/",
          "height": 492
        }
      },
      "execution_count": 78,
      "outputs": [
        {
          "output_type": "execute_result",
          "data": {
            "text/plain": [
              "app                0.000000\n",
              "category           0.000000\n",
              "rating            13.596532\n",
              "reviews            0.000000\n",
              "size               0.000000\n",
              "installs           0.000000\n",
              "type               0.009224\n",
              "price              0.000000\n",
              "content_rating     0.009224\n",
              "genres             0.000000\n",
              "last_updated       0.000000\n",
              "current_ver        0.073794\n",
              "android_ver        0.027673\n",
              "dtype: float64"
            ],
            "text/html": [
              "<div>\n",
              "<style scoped>\n",
              "    .dataframe tbody tr th:only-of-type {\n",
              "        vertical-align: middle;\n",
              "    }\n",
              "\n",
              "    .dataframe tbody tr th {\n",
              "        vertical-align: top;\n",
              "    }\n",
              "\n",
              "    .dataframe thead th {\n",
              "        text-align: right;\n",
              "    }\n",
              "</style>\n",
              "<table border=\"1\" class=\"dataframe\">\n",
              "  <thead>\n",
              "    <tr style=\"text-align: right;\">\n",
              "      <th></th>\n",
              "      <th>0</th>\n",
              "    </tr>\n",
              "  </thead>\n",
              "  <tbody>\n",
              "    <tr>\n",
              "      <th>app</th>\n",
              "      <td>0.000000</td>\n",
              "    </tr>\n",
              "    <tr>\n",
              "      <th>category</th>\n",
              "      <td>0.000000</td>\n",
              "    </tr>\n",
              "    <tr>\n",
              "      <th>rating</th>\n",
              "      <td>13.596532</td>\n",
              "    </tr>\n",
              "    <tr>\n",
              "      <th>reviews</th>\n",
              "      <td>0.000000</td>\n",
              "    </tr>\n",
              "    <tr>\n",
              "      <th>size</th>\n",
              "      <td>0.000000</td>\n",
              "    </tr>\n",
              "    <tr>\n",
              "      <th>installs</th>\n",
              "      <td>0.000000</td>\n",
              "    </tr>\n",
              "    <tr>\n",
              "      <th>type</th>\n",
              "      <td>0.009224</td>\n",
              "    </tr>\n",
              "    <tr>\n",
              "      <th>price</th>\n",
              "      <td>0.000000</td>\n",
              "    </tr>\n",
              "    <tr>\n",
              "      <th>content_rating</th>\n",
              "      <td>0.009224</td>\n",
              "    </tr>\n",
              "    <tr>\n",
              "      <th>genres</th>\n",
              "      <td>0.000000</td>\n",
              "    </tr>\n",
              "    <tr>\n",
              "      <th>last_updated</th>\n",
              "      <td>0.000000</td>\n",
              "    </tr>\n",
              "    <tr>\n",
              "      <th>current_ver</th>\n",
              "      <td>0.073794</td>\n",
              "    </tr>\n",
              "    <tr>\n",
              "      <th>android_ver</th>\n",
              "      <td>0.027673</td>\n",
              "    </tr>\n",
              "  </tbody>\n",
              "</table>\n",
              "</div><br><label><b>dtype:</b> float64</label>"
            ]
          },
          "metadata": {},
          "execution_count": 78
        }
      ]
    },
    {
      "cell_type": "markdown",
      "source": [
        "В строке **rating** мы получили значение **13.596532**, **type** **0.009224**,\n",
        "\n",
        "**content_rating\t0.009224**,\n",
        "\n",
        "**current_ver\t0.073794**,\n",
        "\n",
        "**android_ver\t0.027673**\n",
        "\n",
        "В дальнейшем будем смотреть какие значения содержат эти строки чтобы корректно заменить пустые строки в **'unknown'**\n",
        "\n"
      ],
      "metadata": {
        "id": "sm-EHLquzUwI"
      }
    },
    {
      "cell_type": "code",
      "source": [
        "# Проверка значений, которые были засчитаны как пропуски в столбце 'rating'\n",
        "print(\"Уникальные значения в столбце 'rating' (отсортированы по убыванию):\")\n",
        "sorted_values = df['rating'].value_counts(dropna=False).sort_index(ascending=False)  # Сортировка по убыванию\n",
        "print(sorted_values)\n",
        "\n",
        "# Подсчет количества строк с NaN в 'rating'\n",
        "missing_rating_count = df['rating'].isna().sum()\n",
        "print(f\"\\nКоличество строк с NaN в столбце 'rating': {missing_rating_count}\")"
      ],
      "metadata": {
        "colab": {
          "base_uri": "https://localhost:8080/"
        },
        "id": "9bLXBN0IiIy6",
        "outputId": "bc913969-7cc7-4ee2-ba28-840474fad764"
      },
      "execution_count": 83,
      "outputs": [
        {
          "output_type": "stream",
          "name": "stdout",
          "text": [
            "Уникальные значения в столбце 'rating' (отсортированы по убыванию):\n",
            "rating\n",
            "19.0       1\n",
            "5.0      274\n",
            "4.9       87\n",
            "4.8      234\n",
            "4.7      499\n",
            "4.6      823\n",
            "4.5     1038\n",
            "4.4     1109\n",
            "4.3     1076\n",
            "4.2      952\n",
            "4.1      708\n",
            "4.0      568\n",
            "3.9      386\n",
            "3.8      303\n",
            "3.7      239\n",
            "3.6      174\n",
            "3.5      163\n",
            "3.4      128\n",
            "3.3      102\n",
            "3.2       64\n",
            "3.1       69\n",
            "3.0       83\n",
            "2.9       45\n",
            "2.8       42\n",
            "2.7       25\n",
            "2.6       25\n",
            "2.5       21\n",
            "2.4       19\n",
            "2.3       20\n",
            "2.2       14\n",
            "2.1        8\n",
            "2.0       12\n",
            "1.9       13\n",
            "1.8        8\n",
            "1.7        8\n",
            "1.6        4\n",
            "1.5        3\n",
            "1.4        3\n",
            "1.2        1\n",
            "1.0       16\n",
            "NaN     1474\n",
            "Name: count, dtype: int64\n",
            "\n",
            "Количество строк с NaN в столбце 'rating': 1474\n"
          ]
        }
      ]
    },
    {
      "cell_type": "markdown",
      "source": [
        "Как мы можем заметить пустых строк в строке **rating** 1474. Кроме этого есть 1 значение с рейтингом 19.0 это тоже будет считатся как пустая строка."
      ],
      "metadata": {
        "id": "dpJjgbSw1Qen"
      }
    },
    {
      "cell_type": "code",
      "source": [
        "# Замена пропущенных значений в столбце 'rating' на 'unknown'\n",
        "df['rating'] = df['rating'].fillna('unknown')\n",
        "\n",
        "# Проверка результатов\n",
        "print(df['rating'].value_counts(dropna=False))"
      ],
      "metadata": {
        "colab": {
          "base_uri": "https://localhost:8080/"
        },
        "id": "VJaCgyD23Z0c",
        "outputId": "50c2d837-1300-4fec-d983-ae47cd57c74a"
      },
      "execution_count": 95,
      "outputs": [
        {
          "output_type": "stream",
          "name": "stdout",
          "text": [
            "rating\n",
            "unknown    1475\n",
            "4.4        1109\n",
            "4.3        1076\n",
            "4.5        1038\n",
            "4.2         952\n",
            "4.6         823\n",
            "4.1         708\n",
            "4.0         568\n",
            "4.7         499\n",
            "3.9         386\n",
            "3.8         303\n",
            "5.0         274\n",
            "3.7         239\n",
            "4.8         234\n",
            "3.6         174\n",
            "3.5         163\n",
            "3.4         128\n",
            "3.3         102\n",
            "4.9          87\n",
            "3.0          83\n",
            "3.1          69\n",
            "3.2          64\n",
            "2.9          45\n",
            "2.8          42\n",
            "2.7          25\n",
            "2.6          25\n",
            "2.5          21\n",
            "2.3          20\n",
            "2.4          19\n",
            "1.0          16\n",
            "2.2          14\n",
            "1.9          13\n",
            "2.0          12\n",
            "1.7           8\n",
            "1.8           8\n",
            "2.1           8\n",
            "1.6           4\n",
            "1.4           3\n",
            "1.5           3\n",
            "1.2           1\n",
            "Name: count, dtype: int64\n"
          ]
        }
      ]
    },
    {
      "cell_type": "markdown",
      "source": [
        "Дальше проверяем значения строки **type** чтобы посмотреть какие значения нужно заменить на **unknown**"
      ],
      "metadata": {
        "id": "igcyT1tw7cZu"
      }
    },
    {
      "cell_type": "code",
      "source": [
        "# Проверка значений, которые были засчитаны как пропуски в столбце 'type'\n",
        "print(\"Уникальные значения в столбце 'type':\")\n",
        "print(df['type'].value_counts(dropna=False))  # Вывод всех значений, включая NaN\n",
        "\n",
        "# Подсчет количества строк с NaN в 'type'\n",
        "missing_type_count = df['type'].isna().sum()"
      ],
      "metadata": {
        "colab": {
          "base_uri": "https://localhost:8080/"
        },
        "id": "j1rsk86n7Mav",
        "outputId": "bf0b9e27-a82f-43a5-9d73-05135a68db0d"
      },
      "execution_count": 101,
      "outputs": [
        {
          "output_type": "stream",
          "name": "stdout",
          "text": [
            "Уникальные значения в столбце 'type':\n",
            "type\n",
            "Free       10039\n",
            "Paid         800\n",
            "unknown        1\n",
            "0              1\n",
            "Name: count, dtype: int64\n"
          ]
        }
      ]
    },
    {
      "cell_type": "markdown",
      "source": [
        "Заменим значения NaN и 0 на unknown"
      ],
      "metadata": {
        "id": "xchKm9MB732t"
      }
    },
    {
      "cell_type": "code",
      "source": [
        "# Убедимся, что заменяем 0 как число и как строку\n",
        "df['type'] = df['type'].replace([0, '0'], 'unknown')  # Заменяем как числовое, так и строковое значение 0\n",
        "df['type'] = df['type'].fillna('unknown')  # Заменяем NaN на 'unknown'\n",
        "\n",
        "# Проверяем результаты\n",
        "print(\"Уникальные значения в столбце 'type':\")\n",
        "print(df['type'].value_counts(dropna=False))  # Вывод всех уникальных значений с их количеством"
      ],
      "metadata": {
        "colab": {
          "base_uri": "https://localhost:8080/"
        },
        "id": "FGaIeuou8D2y",
        "outputId": "f5535ff0-56f2-4ad0-e93f-ec1d103ed46e"
      },
      "execution_count": 105,
      "outputs": [
        {
          "output_type": "stream",
          "name": "stdout",
          "text": [
            "Уникальные значения в столбце 'type':\n",
            "type\n",
            "Free       10039\n",
            "Paid         800\n",
            "unknown        2\n",
            "Name: count, dtype: int64\n"
          ]
        }
      ]
    },
    {
      "cell_type": "markdown",
      "source": [
        "Проверяем значения строки **content_rating**"
      ],
      "metadata": {
        "id": "Xxx7uXU99OrC"
      }
    },
    {
      "cell_type": "code",
      "source": [
        "# Проверка значений, которые были засчитаны как пропуски в столбце 'content_rating'\n",
        "print(\"Уникальные значения в столбце 'content_rating':\")\n",
        "print(df['content_rating'].value_counts(dropna=False))  # Вывод всех значений, включая NaN\n",
        "\n",
        "# Подсчет количества строк с NaN в 'content_rating'\n",
        "missing_content_rating_count = df['content_rating'].isna().sum()\n",
        "print(f\"\\nКоличество строк с NaN в столбце 'content_rating': {missing_content_rating_count}\")\n"
      ],
      "metadata": {
        "colab": {
          "base_uri": "https://localhost:8080/"
        },
        "id": "msvXb7XT9UrP",
        "outputId": "7b9b23c1-0c84-487c-9b23-a3a015c19bcc"
      },
      "execution_count": 106,
      "outputs": [
        {
          "output_type": "stream",
          "name": "stdout",
          "text": [
            "Уникальные значения в столбце 'content_rating':\n",
            "content_rating\n",
            "Everyone           8714\n",
            "Teen               1208\n",
            "Mature 17+          499\n",
            "Everyone 10+        414\n",
            "Adults only 18+       3\n",
            "Unrated               2\n",
            "NaN                   1\n",
            "Name: count, dtype: int64\n",
            "\n",
            "Количество строк с NaN в столбце 'content_rating': 1\n"
          ]
        }
      ]
    },
    {
      "cell_type": "markdown",
      "source": [
        "Заменим значения Unrated и NaN на **unknown**"
      ],
      "metadata": {
        "id": "esh4rnpM9tBQ"
      }
    },
    {
      "cell_type": "code",
      "source": [
        "# Заменяем значения 'Unrated' и NaN на 'unknown' в столбце 'content_rating'\n",
        "df['content_rating'] = df['content_rating'].replace('Unrated', 'unknown')  # Заменяем 'Unrated' на 'unknown'\n",
        "df['content_rating'] = df['content_rating'].fillna('unknown')  # Заменяем NaN на 'unknown'\n",
        "\n",
        "# Проверяем результаты\n",
        "print(\"Уникальные значения в столбце 'content_rating':\")\n",
        "print(df['content_rating'].value_counts(dropna=False))  # Вывод всех уникальных значений с их количеством"
      ],
      "metadata": {
        "colab": {
          "base_uri": "https://localhost:8080/"
        },
        "id": "EPwOrOxu925Y",
        "outputId": "f5e0b0b4-c130-4618-df10-3e94600158ba"
      },
      "execution_count": 107,
      "outputs": [
        {
          "output_type": "stream",
          "name": "stdout",
          "text": [
            "Уникальные значения в столбце 'content_rating':\n",
            "content_rating\n",
            "Everyone           8714\n",
            "Teen               1208\n",
            "Mature 17+          499\n",
            "Everyone 10+        414\n",
            "Adults only 18+       3\n",
            "unknown               3\n",
            "Name: count, dtype: int64\n"
          ]
        }
      ]
    },
    {
      "cell_type": "markdown",
      "source": [
        "Проверяем значения строки **current_ver**"
      ],
      "metadata": {
        "id": "a_6WRI37-sXb"
      }
    },
    {
      "cell_type": "code",
      "source": [
        "# Проверка значений, которые были засчитаны как пропуски в столбце 'current_ver'\n",
        "print(\"Уникальные значения в столбце 'current_ver':\")\n",
        "print(df['current_ver'].value_counts(dropna=False))  # Вывод всех значений, включая NaN\n",
        "\n",
        "# Подсчет количества строк с NaN в 'current_ver'\n",
        "missing_current_ver_count = df['current_ver'].isna().sum()\n",
        "print(f\"\\nКоличество строк с NaN в столбце 'current_ver': {missing_current_ver_count}\")\n"
      ],
      "metadata": {
        "colab": {
          "base_uri": "https://localhost:8080/"
        },
        "id": "uQag7jhz-5y6",
        "outputId": "c88cc8e2-a922-48ce-d2a0-ee4539114c7a"
      },
      "execution_count": 108,
      "outputs": [
        {
          "output_type": "stream",
          "name": "stdout",
          "text": [
            "Уникальные значения в столбце 'current_ver':\n",
            "current_ver\n",
            "Varies with device    1459\n",
            "1.0                    809\n",
            "1.1                    264\n",
            "1.2                    178\n",
            "2.0                    151\n",
            "                      ... \n",
            "5.44.1                   1\n",
            "7.16.8                   1\n",
            "04.08.00                 1\n",
            "2.10.06                  1\n",
            "2.0.148.0                1\n",
            "Name: count, Length: 2833, dtype: int64\n",
            "\n",
            "Количество строк с NaN в столбце 'current_ver': 8\n"
          ]
        }
      ]
    },
    {
      "cell_type": "code",
      "source": [
        "# Заменяем значения NaN на 'unknown' в столбце 'current_ver'\n",
        "df['current_ver'] = df['current_ver'].fillna('unknown')\n",
        "\n",
        "# Проверяем результаты\n",
        "print(\"Уникальные значения в столбце 'current_ver':\")\n",
        "print(df['current_ver'].value_counts(dropna=False))  # Вывод всех уникальных значений с их количеством"
      ],
      "metadata": {
        "colab": {
          "base_uri": "https://localhost:8080/"
        },
        "id": "fXSZpENmASBl",
        "outputId": "3f7b6620-5102-4a65-e51a-23a4ed2584e6"
      },
      "execution_count": 109,
      "outputs": [
        {
          "output_type": "stream",
          "name": "stdout",
          "text": [
            "Уникальные значения в столбце 'current_ver':\n",
            "current_ver\n",
            "Varies with device    1459\n",
            "1.0                    809\n",
            "1.1                    264\n",
            "1.2                    178\n",
            "2.0                    151\n",
            "                      ... \n",
            "5.44.1                   1\n",
            "7.16.8                   1\n",
            "04.08.00                 1\n",
            "2.10.06                  1\n",
            "2.0.148.0                1\n",
            "Name: count, Length: 2833, dtype: int64\n"
          ]
        }
      ]
    },
    {
      "cell_type": "markdown",
      "source": [
        "Проверяем значения строки **android_ver**"
      ],
      "metadata": {
        "id": "7wwKKkFfAfWU"
      }
    },
    {
      "cell_type": "code",
      "source": [
        "# Проверка значений, которые были засчитаны как пропуски в столбце 'android_ver'\n",
        "print(\"Уникальные значения в столбце 'android_ver':\")\n",
        "print(df['android_ver'].value_counts(dropna=False))  # Вывод всех значений, включая NaN\n",
        "\n",
        "# Подсчет количества строк с NaN в 'android_ver'\n",
        "missing_android_ver_count = df['android_ver'].isna().sum()\n",
        "print(f\"\\nКоличество строк с NaN в столбце 'android_ver': {missing_android_ver_count}\")"
      ],
      "metadata": {
        "colab": {
          "base_uri": "https://localhost:8080/"
        },
        "id": "Ms6UkcNWAjua",
        "outputId": "edb2ae68-ef1f-498f-d957-5068eb182e79"
      },
      "execution_count": 110,
      "outputs": [
        {
          "output_type": "stream",
          "name": "stdout",
          "text": [
            "Уникальные значения в столбце 'android_ver':\n",
            "android_ver\n",
            "4.1 and up            2451\n",
            "4.0.3 and up          1501\n",
            "4.0 and up            1375\n",
            "Varies with device    1362\n",
            "4.4 and up             980\n",
            "2.3 and up             652\n",
            "5.0 and up             601\n",
            "4.2 and up             394\n",
            "2.3.3 and up           281\n",
            "2.2 and up             244\n",
            "4.3 and up             243\n",
            "3.0 and up             241\n",
            "2.1 and up             134\n",
            "1.6 and up             116\n",
            "6.0 and up              60\n",
            "7.0 and up              42\n",
            "3.2 and up              36\n",
            "2.0 and up              32\n",
            "5.1 and up              24\n",
            "1.5 and up              20\n",
            "4.4W and up             12\n",
            "3.1 and up              10\n",
            "2.0.1 and up             7\n",
            "8.0 and up               6\n",
            "NaN                      3\n",
            "7.1 and up               3\n",
            "5.0 - 8.0                2\n",
            "4.0.3 - 7.1.1            2\n",
            "1.0 and up               2\n",
            "7.0 - 7.1.1              1\n",
            "4.1 - 7.1.1              1\n",
            "5.0 - 6.0                1\n",
            "2.2 - 7.1.1              1\n",
            "5.0 - 7.1.1              1\n",
            "Name: count, dtype: int64\n",
            "\n",
            "Количество строк с NaN в столбце 'android_ver': 3\n"
          ]
        }
      ]
    },
    {
      "cell_type": "code",
      "source": [
        "# Заменяем значения NaN на 'unknown' в столбце 'android_ver'\n",
        "df['android_ver'] = df['android_ver'].fillna('unknown')\n",
        "\n",
        "# Проверяем результаты\n",
        "print(\"Уникальные значения в столбце 'android_ver':\")\n",
        "print(df['android_ver'].value_counts(dropna=False))  # Вывод всех уникальных значений с их количеством\n"
      ],
      "metadata": {
        "colab": {
          "base_uri": "https://localhost:8080/"
        },
        "id": "xiW83_hUA0Yr",
        "outputId": "f4328e4e-3627-433d-8795-a7418131f888"
      },
      "execution_count": 111,
      "outputs": [
        {
          "output_type": "stream",
          "name": "stdout",
          "text": [
            "Уникальные значения в столбце 'android_ver':\n",
            "android_ver\n",
            "4.1 and up            2451\n",
            "4.0.3 and up          1501\n",
            "4.0 and up            1375\n",
            "Varies with device    1362\n",
            "4.4 and up             980\n",
            "2.3 and up             652\n",
            "5.0 and up             601\n",
            "4.2 and up             394\n",
            "2.3.3 and up           281\n",
            "2.2 and up             244\n",
            "4.3 and up             243\n",
            "3.0 and up             241\n",
            "2.1 and up             134\n",
            "1.6 and up             116\n",
            "6.0 and up              60\n",
            "7.0 and up              42\n",
            "3.2 and up              36\n",
            "2.0 and up              32\n",
            "5.1 and up              24\n",
            "1.5 and up              20\n",
            "4.4W and up             12\n",
            "3.1 and up              10\n",
            "2.0.1 and up             7\n",
            "8.0 and up               6\n",
            "unknown                  3\n",
            "7.1 and up               3\n",
            "5.0 - 8.0                2\n",
            "4.0.3 - 7.1.1            2\n",
            "1.0 and up               2\n",
            "7.0 - 7.1.1              1\n",
            "4.1 - 7.1.1              1\n",
            "5.0 - 6.0                1\n",
            "2.2 - 7.1.1              1\n",
            "5.0 - 7.1.1              1\n",
            "Name: count, dtype: int64\n"
          ]
        }
      ]
    },
    {
      "cell_type": "code",
      "source": [
        "# сумма всех пропусков в таблице\n",
        "df.isna().sum() / df.shape[0] * 100"
      ],
      "metadata": {
        "colab": {
          "base_uri": "https://localhost:8080/",
          "height": 492
        },
        "id": "ra3KueShg0WB",
        "outputId": "02a11f9d-3ba4-4734-fe4f-51bd9ddb0049"
      },
      "execution_count": 113,
      "outputs": [
        {
          "output_type": "execute_result",
          "data": {
            "text/plain": [
              "app               0.0\n",
              "category          0.0\n",
              "rating            0.0\n",
              "reviews           0.0\n",
              "size              0.0\n",
              "installs          0.0\n",
              "type              0.0\n",
              "price             0.0\n",
              "content_rating    0.0\n",
              "genres            0.0\n",
              "last_updated      0.0\n",
              "current_ver       0.0\n",
              "android_ver       0.0\n",
              "dtype: float64"
            ],
            "text/html": [
              "<div>\n",
              "<style scoped>\n",
              "    .dataframe tbody tr th:only-of-type {\n",
              "        vertical-align: middle;\n",
              "    }\n",
              "\n",
              "    .dataframe tbody tr th {\n",
              "        vertical-align: top;\n",
              "    }\n",
              "\n",
              "    .dataframe thead th {\n",
              "        text-align: right;\n",
              "    }\n",
              "</style>\n",
              "<table border=\"1\" class=\"dataframe\">\n",
              "  <thead>\n",
              "    <tr style=\"text-align: right;\">\n",
              "      <th></th>\n",
              "      <th>0</th>\n",
              "    </tr>\n",
              "  </thead>\n",
              "  <tbody>\n",
              "    <tr>\n",
              "      <th>app</th>\n",
              "      <td>0.0</td>\n",
              "    </tr>\n",
              "    <tr>\n",
              "      <th>category</th>\n",
              "      <td>0.0</td>\n",
              "    </tr>\n",
              "    <tr>\n",
              "      <th>rating</th>\n",
              "      <td>0.0</td>\n",
              "    </tr>\n",
              "    <tr>\n",
              "      <th>reviews</th>\n",
              "      <td>0.0</td>\n",
              "    </tr>\n",
              "    <tr>\n",
              "      <th>size</th>\n",
              "      <td>0.0</td>\n",
              "    </tr>\n",
              "    <tr>\n",
              "      <th>installs</th>\n",
              "      <td>0.0</td>\n",
              "    </tr>\n",
              "    <tr>\n",
              "      <th>type</th>\n",
              "      <td>0.0</td>\n",
              "    </tr>\n",
              "    <tr>\n",
              "      <th>price</th>\n",
              "      <td>0.0</td>\n",
              "    </tr>\n",
              "    <tr>\n",
              "      <th>content_rating</th>\n",
              "      <td>0.0</td>\n",
              "    </tr>\n",
              "    <tr>\n",
              "      <th>genres</th>\n",
              "      <td>0.0</td>\n",
              "    </tr>\n",
              "    <tr>\n",
              "      <th>last_updated</th>\n",
              "      <td>0.0</td>\n",
              "    </tr>\n",
              "    <tr>\n",
              "      <th>current_ver</th>\n",
              "      <td>0.0</td>\n",
              "    </tr>\n",
              "    <tr>\n",
              "      <th>android_ver</th>\n",
              "      <td>0.0</td>\n",
              "    </tr>\n",
              "  </tbody>\n",
              "</table>\n",
              "</div><br><label><b>dtype:</b> float64</label>"
            ]
          },
          "metadata": {},
          "execution_count": 113
        }
      ]
    },
    {
      "cell_type": "code",
      "source": [
        "# получение первых 10 строк таблицы df\n",
        "print(df.head(10))"
      ],
      "metadata": {
        "colab": {
          "base_uri": "https://localhost:8080/"
        },
        "id": "IzBj8lqYf4As",
        "outputId": "c082a3d4-e5a1-4a6b-f553-4e1dfbefc9c4"
      },
      "execution_count": 114,
      "outputs": [
        {
          "output_type": "stream",
          "name": "stdout",
          "text": [
            "                                                 app        category rating  \\\n",
            "0     Photo Editor & Candy Camera & Grid & ScrapBook  ART_AND_DESIGN    4.1   \n",
            "1                                Coloring book moana  ART_AND_DESIGN    3.9   \n",
            "2  U Launcher Lite – FREE Live Cool Themes, Hide ...  ART_AND_DESIGN    4.7   \n",
            "3                              Sketch - Draw & Paint  ART_AND_DESIGN    4.5   \n",
            "4              Pixel Draw - Number Art Coloring Book  ART_AND_DESIGN    4.3   \n",
            "5                         Paper flowers instructions  ART_AND_DESIGN    4.4   \n",
            "6            Smoke Effect Photo Maker - Smoke Editor  ART_AND_DESIGN    3.8   \n",
            "7                                   Infinite Painter  ART_AND_DESIGN    4.1   \n",
            "8                               Garden Coloring Book  ART_AND_DESIGN    4.4   \n",
            "9                      Kids Paint Free - Drawing Fun  ART_AND_DESIGN    4.7   \n",
            "\n",
            "  reviews  size     installs  type price content_rating  \\\n",
            "0     159   19M      10,000+  Free     0       Everyone   \n",
            "1     967   14M     500,000+  Free     0       Everyone   \n",
            "2   87510  8.7M   5,000,000+  Free     0       Everyone   \n",
            "3  215644   25M  50,000,000+  Free     0           Teen   \n",
            "4     967  2.8M     100,000+  Free     0       Everyone   \n",
            "5     167  5.6M      50,000+  Free     0       Everyone   \n",
            "6     178   19M      50,000+  Free     0       Everyone   \n",
            "7   36815   29M   1,000,000+  Free     0       Everyone   \n",
            "8   13791   33M   1,000,000+  Free     0       Everyone   \n",
            "9     121  3.1M      10,000+  Free     0       Everyone   \n",
            "\n",
            "                      genres        last_updated         current_ver  \\\n",
            "0               Art & Design     January 7, 2018               1.0.0   \n",
            "1  Art & Design;Pretend Play    January 15, 2018               2.0.0   \n",
            "2               Art & Design      August 1, 2018               1.2.4   \n",
            "3               Art & Design        June 8, 2018  Varies with device   \n",
            "4    Art & Design;Creativity       June 20, 2018                 1.1   \n",
            "5               Art & Design      March 26, 2017                 1.0   \n",
            "6               Art & Design      April 26, 2018                 1.1   \n",
            "7               Art & Design       June 14, 2018            6.1.61.1   \n",
            "8               Art & Design  September 20, 2017               2.9.2   \n",
            "9    Art & Design;Creativity        July 3, 2018                 2.8   \n",
            "\n",
            "    android_ver  \n",
            "0  4.0.3 and up  \n",
            "1  4.0.3 and up  \n",
            "2  4.0.3 and up  \n",
            "3    4.2 and up  \n",
            "4    4.4 and up  \n",
            "5    2.3 and up  \n",
            "6  4.0.3 and up  \n",
            "7    4.2 and up  \n",
            "8    3.0 and up  \n",
            "9  4.0.3 and up  \n"
          ]
        }
      ]
    },
    {
      "cell_type": "markdown",
      "source": [
        "### Дубликаты"
      ],
      "metadata": {
        "id": "FN0vOItdZWnK"
      }
    },
    {
      "cell_type": "markdown",
      "source": [
        "Явные дубликаты"
      ],
      "metadata": {
        "id": "HkNPiW7-cS0w"
      }
    },
    {
      "cell_type": "code",
      "source": [
        "# подсчёт дубликатов\n",
        "df.duplicated().sum()"
      ],
      "metadata": {
        "colab": {
          "base_uri": "https://localhost:8080/"
        },
        "id": "UB728hApZhNh",
        "outputId": "3ea40767-d696-4874-d046-c389dddf9d8c"
      },
      "execution_count": 115,
      "outputs": [
        {
          "output_type": "execute_result",
          "data": {
            "text/plain": [
              "483"
            ]
          },
          "metadata": {},
          "execution_count": 115
        }
      ]
    },
    {
      "cell_type": "code",
      "source": [
        "# удаление явных дубликатов (с удалением старых индексов и формированием новых)\n",
        "df = df.drop_duplicates().reset_index(drop=True)"
      ],
      "metadata": {
        "id": "6i6_uthJZmop"
      },
      "execution_count": 116,
      "outputs": []
    },
    {
      "cell_type": "code",
      "source": [
        "# проверка на отсутствие дубликатов\n",
        "df.duplicated().sum()"
      ],
      "metadata": {
        "colab": {
          "base_uri": "https://localhost:8080/"
        },
        "id": "B2QhTXGTZqUA",
        "outputId": "bacdce6a-a8a8-43f7-b770-3d5675df34c9"
      },
      "execution_count": 117,
      "outputs": [
        {
          "output_type": "execute_result",
          "data": {
            "text/plain": [
              "0"
            ]
          },
          "metadata": {},
          "execution_count": 117
        }
      ]
    },
    {
      "cell_type": "code",
      "source": [
        "# Проверка уникальных значений во всех строковых столбцах\n",
        "string_columns = df.select_dtypes(include=['object']).columns\n",
        "\n",
        "# Просмотр уникальных названий жанров\n",
        "\n",
        "for col in string_columns:\n",
        "    unique_values = df[col].dropna().unique()\n",
        "    print(f\"Unique values in column '{col}':\")\n",
        "    print(unique_values)\n",
        "    print(\"\\n\")\n"
      ],
      "metadata": {
        "colab": {
          "base_uri": "https://localhost:8080/"
        },
        "id": "dWZ85F_7enVf",
        "outputId": "6deea816-e324-4edd-802b-223eaa0ecb45"
      },
      "execution_count": 118,
      "outputs": [
        {
          "output_type": "stream",
          "name": "stdout",
          "text": [
            "Unique values in column 'app':\n",
            "['Photo Editor & Candy Camera & Grid & ScrapBook' 'Coloring book moana'\n",
            " 'U Launcher Lite – FREE Live Cool Themes, Hide Apps' ...\n",
            " 'Parkinson Exercices FR' 'The SCP Foundation DB fr nn5n'\n",
            " 'iHoroscope - 2018 Daily Horoscope & Astrology']\n",
            "\n",
            "\n",
            "Unique values in column 'category':\n",
            "['ART_AND_DESIGN' 'AUTO_AND_VEHICLES' 'BEAUTY' 'BOOKS_AND_REFERENCE'\n",
            " 'BUSINESS' 'COMICS' 'COMMUNICATION' 'DATING' 'EDUCATION' 'ENTERTAINMENT'\n",
            " 'EVENTS' 'FINANCE' 'FOOD_AND_DRINK' 'HEALTH_AND_FITNESS' 'HOUSE_AND_HOME'\n",
            " 'LIBRARIES_AND_DEMO' 'LIFESTYLE' 'GAME' 'FAMILY' 'MEDICAL' 'SOCIAL'\n",
            " 'SHOPPING' 'PHOTOGRAPHY' 'SPORTS' 'TRAVEL_AND_LOCAL' 'TOOLS'\n",
            " 'PERSONALIZATION' 'PRODUCTIVITY' 'PARENTING' 'WEATHER' 'VIDEO_PLAYERS'\n",
            " 'NEWS_AND_MAGAZINES' 'MAPS_AND_NAVIGATION' '1.9']\n",
            "\n",
            "\n",
            "Unique values in column 'rating':\n",
            "[4.1 3.9 4.7 4.5 4.3 4.4 3.8 4.2 4.6 3.2 4.0 'unknown' 4.8 4.9 3.6 3.7 3.3\n",
            " 3.4 3.5 3.1 5.0 2.6 3.0 1.9 2.5 2.8 2.7 1.0 2.9 2.3 2.2 1.7 2.0 1.8 2.4\n",
            " 1.6 2.1 1.4 1.5 1.2]\n",
            "\n",
            "\n",
            "Unique values in column 'reviews':\n",
            "['159' '967' '87510' ... '603' '1195' '398307']\n",
            "\n",
            "\n",
            "Unique values in column 'size':\n",
            "['19M' '14M' '8.7M' '25M' '2.8M' '5.6M' '29M' '33M' '3.1M' '28M' '12M'\n",
            " '20M' '21M' '37M' '2.7M' '5.5M' '17M' '39M' '31M' '4.2M' '7.0M' '23M'\n",
            " '6.0M' '6.1M' '4.6M' '9.2M' '5.2M' '11M' '24M' 'Varies with device'\n",
            " '9.4M' '15M' '10M' '1.2M' '26M' '8.0M' '7.9M' '56M' '57M' '35M' '54M'\n",
            " '201k' '3.6M' '5.7M' '8.6M' '2.4M' '27M' '2.5M' '16M' '3.4M' '8.9M'\n",
            " '3.9M' '2.9M' '38M' '32M' '5.4M' '18M' '1.1M' '2.2M' '4.5M' '9.8M' '52M'\n",
            " '9.0M' '6.7M' '30M' '2.6M' '7.1M' '3.7M' '22M' '7.4M' '6.4M' '3.2M'\n",
            " '8.2M' '9.9M' '4.9M' '9.5M' '5.0M' '5.9M' '13M' '73M' '6.8M' '3.5M'\n",
            " '4.0M' '2.3M' '7.2M' '2.1M' '42M' '7.3M' '9.1M' '55M' '23k' '6.5M' '1.5M'\n",
            " '7.5M' '51M' '41M' '48M' '8.5M' '46M' '8.3M' '4.3M' '4.7M' '3.3M' '40M'\n",
            " '7.8M' '8.8M' '6.6M' '5.1M' '61M' '66M' '79k' '8.4M' '118k' '44M' '695k'\n",
            " '1.6M' '6.2M' '18k' '53M' '1.4M' '3.0M' '5.8M' '3.8M' '9.6M' '45M' '63M'\n",
            " '49M' '77M' '4.4M' '4.8M' '70M' '6.9M' '9.3M' '10.0M' '8.1M' '36M' '84M'\n",
            " '97M' '2.0M' '1.9M' '1.8M' '5.3M' '47M' '556k' '526k' '76M' '7.6M' '59M'\n",
            " '9.7M' '78M' '72M' '43M' '7.7M' '6.3M' '334k' '34M' '93M' '65M' '79M'\n",
            " '100M' '58M' '50M' '68M' '64M' '67M' '60M' '94M' '232k' '99M' '624k'\n",
            " '95M' '8.5k' '41k' '292k' '11k' '80M' '1.7M' '74M' '62M' '69M' '75M'\n",
            " '98M' '85M' '82M' '96M' '87M' '71M' '86M' '91M' '81M' '92M' '83M' '88M'\n",
            " '704k' '862k' '899k' '378k' '266k' '375k' '1.3M' '975k' '980k' '4.1M'\n",
            " '89M' '696k' '544k' '525k' '920k' '779k' '853k' '720k' '713k' '772k'\n",
            " '318k' '58k' '241k' '196k' '857k' '51k' '953k' '865k' '251k' '930k'\n",
            " '540k' '313k' '746k' '203k' '26k' '314k' '239k' '371k' '220k' '730k'\n",
            " '756k' '91k' '293k' '17k' '74k' '14k' '317k' '78k' '924k' '902k' '818k'\n",
            " '81k' '939k' '169k' '45k' '475k' '965k' '90M' '545k' '61k' '283k' '655k'\n",
            " '714k' '93k' '872k' '121k' '322k' '1.0M' '976k' '172k' '238k' '549k'\n",
            " '206k' '954k' '444k' '717k' '210k' '609k' '308k' '705k' '306k' '904k'\n",
            " '473k' '175k' '350k' '383k' '454k' '421k' '70k' '812k' '442k' '842k'\n",
            " '417k' '412k' '459k' '478k' '335k' '782k' '721k' '430k' '429k' '192k'\n",
            " '200k' '460k' '728k' '496k' '816k' '414k' '506k' '887k' '613k' '243k'\n",
            " '569k' '778k' '683k' '592k' '319k' '186k' '840k' '647k' '191k' '373k'\n",
            " '437k' '598k' '716k' '585k' '982k' '222k' '219k' '55k' '948k' '323k'\n",
            " '691k' '511k' '951k' '963k' '25k' '554k' '351k' '27k' '82k' '208k' '913k'\n",
            " '514k' '551k' '29k' '103k' '898k' '743k' '116k' '153k' '209k' '353k'\n",
            " '499k' '173k' '597k' '809k' '122k' '411k' '400k' '801k' '787k' '237k'\n",
            " '50k' '643k' '986k' '97k' '516k' '837k' '780k' '961k' '269k' '20k' '498k'\n",
            " '600k' '749k' '642k' '881k' '72k' '656k' '601k' '221k' '228k' '108k'\n",
            " '940k' '176k' '33k' '663k' '34k' '942k' '259k' '164k' '458k' '245k'\n",
            " '629k' '28k' '288k' '775k' '785k' '636k' '916k' '994k' '309k' '485k'\n",
            " '914k' '903k' '608k' '500k' '54k' '562k' '847k' '957k' '688k' '811k'\n",
            " '270k' '48k' '329k' '523k' '921k' '874k' '981k' '784k' '280k' '24k'\n",
            " '518k' '754k' '892k' '154k' '860k' '364k' '387k' '626k' '161k' '879k'\n",
            " '39k' '970k' '170k' '141k' '160k' '144k' '143k' '190k' '376k' '193k'\n",
            " '246k' '73k' '658k' '992k' '253k' '420k' '404k' '1,000+' '470k' '226k'\n",
            " '240k' '89k' '234k' '257k' '861k' '467k' '157k' '44k' '676k' '67k' '552k'\n",
            " '885k' '1020k' '582k' '619k']\n",
            "\n",
            "\n",
            "Unique values in column 'installs':\n",
            "['10,000+' '500,000+' '5,000,000+' '50,000,000+' '100,000+' '50,000+'\n",
            " '1,000,000+' '10,000,000+' '5,000+' '100,000,000+' '1,000,000,000+'\n",
            " '1,000+' '500,000,000+' '50+' '100+' '500+' '10+' '1+' '5+' '0+' '0'\n",
            " 'Free']\n",
            "\n",
            "\n",
            "Unique values in column 'type':\n",
            "['Free' 'Paid' 'unknown']\n",
            "\n",
            "\n",
            "Unique values in column 'price':\n",
            "['0' '$4.99' '$3.99' '$6.99' '$1.49' '$2.99' '$7.99' '$5.99' '$3.49'\n",
            " '$1.99' '$9.99' '$7.49' '$0.99' '$9.00' '$5.49' '$10.00' '$24.99'\n",
            " '$11.99' '$79.99' '$16.99' '$14.99' '$1.00' '$29.99' '$12.99' '$2.49'\n",
            " '$10.99' '$1.50' '$19.99' '$15.99' '$33.99' '$74.99' '$39.99' '$3.95'\n",
            " '$4.49' '$1.70' '$8.99' '$2.00' '$3.88' '$25.99' '$399.99' '$17.99'\n",
            " '$400.00' '$3.02' '$1.76' '$4.84' '$4.77' '$1.61' '$2.50' '$1.59' '$6.49'\n",
            " '$1.29' '$5.00' '$13.99' '$299.99' '$379.99' '$37.99' '$18.99' '$389.99'\n",
            " '$19.90' '$8.49' '$1.75' '$14.00' '$4.85' '$46.99' '$109.99' '$154.99'\n",
            " '$3.08' '$2.59' '$4.80' '$1.96' '$19.40' '$3.90' '$4.59' '$15.46' '$3.04'\n",
            " '$4.29' '$2.60' '$3.28' '$4.60' '$28.99' '$2.95' '$2.90' '$1.97'\n",
            " '$200.00' '$89.99' '$2.56' '$30.99' '$3.61' '$394.99' '$1.26' 'Everyone'\n",
            " '$1.20' '$1.04']\n",
            "\n",
            "\n",
            "Unique values in column 'content_rating':\n",
            "['Everyone' 'Teen' 'Everyone 10+' 'Mature 17+' 'Adults only 18+' 'unknown']\n",
            "\n",
            "\n",
            "Unique values in column 'genres':\n",
            "['Art & Design' 'Art & Design;Pretend Play' 'Art & Design;Creativity'\n",
            " 'Art & Design;Action & Adventure' 'Auto & Vehicles' 'Beauty'\n",
            " 'Books & Reference' 'Business' 'Comics' 'Comics;Creativity'\n",
            " 'Communication' 'Dating' 'Education;Education' 'Education'\n",
            " 'Education;Creativity' 'Education;Music & Video'\n",
            " 'Education;Action & Adventure' 'Education;Pretend Play'\n",
            " 'Education;Brain Games' 'Entertainment' 'Entertainment;Music & Video'\n",
            " 'Entertainment;Brain Games' 'Entertainment;Creativity' 'Events' 'Finance'\n",
            " 'Food & Drink' 'Health & Fitness' 'House & Home' 'Libraries & Demo'\n",
            " 'Lifestyle' 'Lifestyle;Pretend Play' 'Adventure;Action & Adventure'\n",
            " 'Arcade' 'Casual' 'Card' 'Casual;Pretend Play' 'Action' 'Strategy'\n",
            " 'Puzzle' 'Sports' 'Music' 'Word' 'Racing' 'Casual;Creativity'\n",
            " 'Casual;Action & Adventure' 'Simulation' 'Adventure' 'Board' 'Trivia'\n",
            " 'Role Playing' 'Simulation;Education' 'Action;Action & Adventure'\n",
            " 'Casual;Brain Games' 'Simulation;Action & Adventure'\n",
            " 'Educational;Creativity' 'Puzzle;Brain Games' 'Educational;Education'\n",
            " 'Card;Brain Games' 'Educational;Brain Games' 'Educational;Pretend Play'\n",
            " 'Entertainment;Education' 'Casual;Education' 'Music;Music & Video'\n",
            " 'Racing;Action & Adventure' 'Arcade;Pretend Play'\n",
            " 'Role Playing;Action & Adventure' 'Simulation;Pretend Play'\n",
            " 'Puzzle;Creativity' 'Sports;Action & Adventure'\n",
            " 'Educational;Action & Adventure' 'Arcade;Action & Adventure'\n",
            " 'Entertainment;Action & Adventure' 'Puzzle;Action & Adventure'\n",
            " 'Strategy;Action & Adventure' 'Music & Audio;Music & Video'\n",
            " 'Health & Fitness;Education' 'Adventure;Education' 'Board;Brain Games'\n",
            " 'Board;Action & Adventure' 'Board;Pretend Play' 'Casual;Music & Video'\n",
            " 'Role Playing;Pretend Play' 'Entertainment;Pretend Play'\n",
            " 'Video Players & Editors;Creativity' 'Card;Action & Adventure' 'Medical'\n",
            " 'Social' 'Shopping' 'Photography' 'Travel & Local'\n",
            " 'Travel & Local;Action & Adventure' 'Tools' 'Tools;Education'\n",
            " 'Personalization' 'Productivity' 'Parenting' 'Parenting;Music & Video'\n",
            " 'Parenting;Education' 'Parenting;Brain Games' 'Weather'\n",
            " 'Video Players & Editors' 'Video Players & Editors;Music & Video'\n",
            " 'News & Magazines' 'Maps & Navigation'\n",
            " 'Health & Fitness;Action & Adventure' 'Educational' 'Casino'\n",
            " 'Adventure;Brain Games' 'Trivia;Education' 'Lifestyle;Education'\n",
            " 'Books & Reference;Creativity' 'Books & Reference;Education'\n",
            " 'Puzzle;Education' 'Role Playing;Education' 'Role Playing;Brain Games'\n",
            " 'Strategy;Education' 'Racing;Pretend Play' 'Communication;Creativity'\n",
            " 'February 11, 2018' 'Strategy;Creativity']\n",
            "\n",
            "\n",
            "Unique values in column 'last_updated':\n",
            "['January 7, 2018' 'January 15, 2018' 'August 1, 2018' ...\n",
            " 'January 20, 2014' 'February 16, 2014' 'March 23, 2014']\n",
            "\n",
            "\n",
            "Unique values in column 'current_ver':\n",
            "['1.0.0' '2.0.0' '1.2.4' ... '1.0.612928' '0.3.4' '2.0.148.0']\n",
            "\n",
            "\n",
            "Unique values in column 'android_ver':\n",
            "['4.0.3 and up' '4.2 and up' '4.4 and up' '2.3 and up' '3.0 and up'\n",
            " '4.1 and up' '4.0 and up' '2.3.3 and up' 'Varies with device'\n",
            " '2.2 and up' '5.0 and up' '6.0 and up' '1.6 and up' '1.5 and up'\n",
            " '2.1 and up' '7.0 and up' '5.1 and up' '4.3 and up' '4.0.3 - 7.1.1'\n",
            " '2.0 and up' '3.2 and up' '4.4W and up' '7.1 and up' '7.0 - 7.1.1'\n",
            " '8.0 and up' '5.0 - 8.0' '3.1 and up' '2.0.1 and up' '4.1 - 7.1.1'\n",
            " 'unknown' '5.0 - 6.0' '1.0 and up' '2.2 - 7.1.1' '5.0 - 7.1.1']\n",
            "\n",
            "\n"
          ]
        }
      ]
    },
    {
      "cell_type": "markdown",
      "source": [
        "**Выводы:**\n",
        "\n",
        "Предобработка обнаружила такие проблемы в данных:\n",
        "1.   нарушения в стиле заголовков,\n",
        "2.   пропущенные значения,\n",
        "3.   дубликаты\n",
        "\n",
        "Теперь датасет очищен от пропусков и некорректных значений, что делает его готовым для проверки гипотез."
      ],
      "metadata": {
        "id": "g0BZfVvaCSLn"
      }
    },
    {
      "cell_type": "markdown",
      "source": [
        "# Проверка гипотез"
      ],
      "metadata": {
        "id": "ptSEEbDyDJfc"
      }
    },
    {
      "cell_type": "markdown",
      "source": [
        "### Бесплатные приложения имеют более низкий средний рейтинг по сравнению с платными.\n"
      ],
      "metadata": {
        "id": "TMijdQz5EK2G"
      }
    },
    {
      "cell_type": "markdown",
      "source": [
        "Первая гипотех утверждает что средний рейтинг бесплатных и платных приложений отличаются. Для того чтобы проверить насколько они отличаются\n",
        "1.   Расчитаем средний рейтинг\n",
        "2.   Построим столбчатую диаграмму для наглядного сравнения среднего рейтинга.\n",
        "\n"
      ],
      "metadata": {
        "id": "9mhE0vKiIxKG"
      }
    },
    {
      "cell_type": "code",
      "source": [
        "# Убираем строки, где 'rating' или 'type' имеют значение 'unknown'\n",
        "df_clean = df[(df['rating'] != 'unknown') & (df['type'] != 'unknown')]\n",
        "\n",
        "# Группируем по 'type' и рассчитываем средний рейтинг\n",
        "rating_by_type = df_clean.groupby('type')['rating'].mean()\n",
        "\n",
        "# Выводим результат\n",
        "print(\"Средний рейтинг по типу приложения:\")\n",
        "print(rating_by_type)"
      ],
      "metadata": {
        "colab": {
          "base_uri": "https://localhost:8080/"
        },
        "id": "JSZuhAvdKS9c",
        "outputId": "d1201a0e-3720-468a-87bc-f7cf209a965b"
      },
      "execution_count": 122,
      "outputs": [
        {
          "output_type": "stream",
          "name": "stdout",
          "text": [
            "Средний рейтинг по типу приложения:\n",
            "type\n",
            "Free    4.182425\n",
            "Paid    4.261501\n",
            "Name: rating, dtype: object\n"
          ]
        }
      ]
    },
    {
      "cell_type": "code",
      "source": [
        "import matplotlib.pyplot as plt\n",
        "# Визуализация для сравнения\n",
        "rating_by_type.plot(kind='bar', title='Средний рейтинг: Бесплатные vs Платные приложения', ylabel='Средний рейтинг', xlabel='Тип приложения', color=['blue', 'green'])\n",
        "plt.xticks(rotation=0)\n",
        "plt.show()"
      ],
      "metadata": {
        "colab": {
          "base_uri": "https://localhost:8080/",
          "height": 472
        },
        "id": "iXyvqmN1Lcz8",
        "outputId": "f5299c21-9b7e-40d4-804a-7603f65a83ac"
      },
      "execution_count": 124,
      "outputs": [
        {
          "output_type": "display_data",
          "data": {
            "text/plain": [
              "<Figure size 640x480 with 1 Axes>"
            ],
            "image/png": "[encoded data removed]"
          },
          "metadata": {}
        }
      ]
    },
    {
      "cell_type": "markdown",
      "source": [
        "**Выводы:**\n",
        "Средний рейтинг платных приложений (**4.26**) немного выше, чем у бесплатных приложений (**4.18**).\n",
        "\n",
        "Это подтверждает гипотезу о том, что платные приложения, как правило, имеют более высокий средний рейтинг по сравнению с бесплатными. Однако разница незначительная, что может указывать на высокое качество большинства приложений в обеих категориях.\n"
      ],
      "metadata": {
        "id": "QKf5JN1fMP1Y"
      }
    },
    {
      "cell_type": "markdown",
      "source": [
        "### Приложения с большим количеством установок имеют более высокий средний рейтинг."
      ],
      "metadata": {
        "id": "F-Tlb_NmNTmM"
      }
    },
    {
      "cell_type": "code",
      "source": [
        "# Убираем строки, где 'type' или 'rating' равны 'unknown'\n",
        "df_clean_installs = df[(df['type'] != 'unknown') & (df['rating'] != 'unknown')]\n",
        "\n",
        "# Группируем данные по количеству установок и рассчитываем средний рейтинг\n",
        "installs_rating = df_clean_installs.groupby('installs')['rating'].mean().reset_index()\n",
        "# Вывод результата группировки по количеству установок и среднего рейтинга\n",
        "print(\"Средний рейтинг по количеству установок:\")\n",
        "print(installs_rating)\n"
      ],
      "metadata": {
        "colab": {
          "base_uri": "https://localhost:8080/"
        },
        "id": "yAKFIYC-OdKg",
        "outputId": "e337b201-2286-44e3-f591-e753ad114b93"
      },
      "execution_count": 128,
      "outputs": [
        {
          "output_type": "stream",
          "name": "stdout",
          "text": [
            "Средний рейтинг по количеству установок:\n",
            "          installs    rating\n",
            "0               1+       5.0\n",
            "1           1,000+   4.06404\n",
            "2       1,000,000+  4.218775\n",
            "3   1,000,000,000+  4.261224\n",
            "4              10+  4.624638\n",
            "5          10,000+  4.035996\n",
            "6      10,000,000+  4.313604\n",
            "7             100+  4.363696\n",
            "8         100,000+  4.113063\n",
            "9     100,000,000+  4.408401\n",
            "10              5+  4.611111\n",
            "11          5,000+  4.019718\n",
            "12      5,000,000+  4.239385\n",
            "13             50+  4.419643\n",
            "14         50,000+  4.050216\n",
            "15     50,000,000+  4.348529\n",
            "16            500+  4.177889\n",
            "17        500,000+  4.173256\n",
            "18    500,000,000+  4.347541\n"
          ]
        }
      ]
    }
  ],
  "metadata": {
    "colab": {
      "provenance": [],
      "collapsed_sections": [
        "CEqj3T2-EC5d",
        "qou_geIiobxf",
        "fhX7uOGrDsXk",
        "HKEMEFBgDl8N",
        "FN0vOItdZWnK",
        "TMijdQz5EK2G",
        "F-Tlb_NmNTmM"
      ],
      "mount_file_id": "1QLPy-IddgPoX33pnlQoljOdlNH_KbaMA",
      "authorship_tag": "ABX9TyOSYUsTMluHaHw/EYU7KOgO",
      "include_colab_link": true
    },
    "kernelspec": {
      "display_name": "Python 3",
      "name": "python3"
    },
    "language_info": {
      "name": "python"
    }
  },
  "nbformat": 4,
  "nbformat_minor": 0
}